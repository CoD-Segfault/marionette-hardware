{
 "cells": [
  {
   "cell_type": "markdown",
   "metadata": {},
   "source": [
    "# LTC3114 Calculations\n",
    "\n"
   ]
  },
  {
   "cell_type": "code",
   "execution_count": 2,
   "metadata": {
    "collapsed": true
   },
   "outputs": [],
   "source": [
    "from __future__ import division\n",
    "import math\n"
   ]
  },
  {
   "cell_type": "code",
   "execution_count": 4,
   "metadata": {
    "collapsed": false
   },
   "outputs": [
    {
     "name": "stdout",
     "output_type": "stream",
     "text": [
      "delta_Il for buck mode = 0.612745 A\n",
      "The maximum instantaneous current in the inductor will be Il_max = 1.306373 A\n"
     ]
    }
   ],
   "source": [
    "#Inductor Selection \n",
    "#Inductor Selection for Buck Mode (worst case Vin = 40V)\n",
    "Vin = 40\n",
    "Vout = 5\n",
    "L = 6.8E-6\n",
    "f = 1.2E6       \n",
    "Iout_max = 1   #maximum average output current at 5V\n",
    "\n",
    "delta_Il = Vout * (1-(Vout/Vin))/(L*f)\n",
    "print \"delta_Il for buck mode = %f A\" %delta_Il \n",
    "\n",
    "#Il_max is an accepted safety factor for inductor capacity that takes into account heavy load transients.\n",
    "\n",
    "Il_max = Iout_max + delta_Il/2  \n",
    "print \"The maximum instantaneous current in the inductor will be Il_max = %f A\" %Il_max \n",
    "\n"
   ]
  },
  {
   "cell_type": "code",
   "execution_count": 13,
   "metadata": {
    "collapsed": false
   },
   "outputs": [
    {
     "name": "stdout",
     "output_type": "stream",
     "text": [
      "Peak to peak ripple current for 6.800000 uH inductor in buck mode (according to LTC3114 calcs) is 0.503983 A\n"
     ]
    }
   ],
   "source": [
    "#Here are the numbers from the LTC3114 datasheet for Inductor Selection:\n",
    "\n",
    "Vin = 40\n",
    "Vout = 5\n",
    "L = 6.8E-6\n",
    "f = 1.2E6\n",
    "tlow = .05E-6\n",
    "Ilpp = Vout/L * (Vin-Vout)/Vin * ((1/f)- tlow)\n",
    "print \"Peak to peak ripple current for %f uH inductor in buck mode (according to LTC3114 calcs) is %f A\" %(L*1E6, Ilpp)"
   ]
  },
  {
   "cell_type": "code",
   "execution_count": 17,
   "metadata": {
    "collapsed": false
   },
   "outputs": [
    {
     "name": "stdout",
     "output_type": "stream",
     "text": [
      "The maximum ripple current in boost mode is 0.143995 A\n",
      "The maximum current through the inductor in boost mode is 1.671998 A\n"
     ]
    }
   ],
   "source": [
    "#Inductor Selection for Boost Mode (Worst Case Vin = 2.5V which is 3.0V input power and then a 500mV diode drop)  \n",
    "\n",
    "Vin = 2.5\n",
    "Vout = 5\n",
    "L = 6.8E-6\n",
    "f = 1.2E6  \n",
    "Iout_max = 1  #maximum output current DC A.  \n",
    "neff = 0.8\n",
    "\n",
    "Iboost_dc = Vout*Iout_max/Vin*neff\n",
    "\n",
    "#Calculate the DC inductor current in boost mode\n",
    "Ilpp_boost = (Vin/L) * (Vout-Vin)/Vout * ((1/f) - tlow)  \n",
    "\n",
    "print \"The maximum ripple current in boost mode is %f A\" %Ilpp_boost  \n",
    "\n",
    "print \"The maximum current through the inductor in boost mode is %f A\" %(Iboost_dc + Ilpp_boost/2)\n",
    "\n",
    "\n",
    "\n",
    "\n"
   ]
  },
  {
   "cell_type": "markdown",
   "metadata": {},
   "source": [
    "The inductor chosen for the (3V, 40V) to 5V SMPS must have at least a 1.67A current rating, so round up to 2A current rating.  From the LTC3114 datasheet, the inductor value should be between 4.7uH and 15uH.  Choose 6.8uH.  The SRN5040 family of inductors from Bournes has inductor values including 4.7uH, 6.8uH, 8.2uH that are all rated above 2A.  Choose the SRN5040-6R8M which has 2.3A current rating, 59mOhm DC resistance, 21MHz resonant frequency in a 5mm x 5mm x 4mm package.  This device is in the dock_v2.lbr INDUCTOR_FERRITE_CORE .  "
   ]
  },
  {
   "cell_type": "code",
   "execution_count": 21,
   "metadata": {
    "collapsed": false
   },
   "outputs": [
    {
     "name": "stdout",
     "output_type": "stream",
     "text": [
      "R38 = 2700 ohms\n",
      "R4 = 4663 ohms\n"
     ]
    }
   ],
   "source": [
    "#RUN pin calculations \n",
    "\n",
    "#The RUN pin acts as an undervoltage lockout with a 1.2V rising turn on and a 1.1V falling turn off.  \n",
    "#The RUN pin sinks a max current of 40uA.  Set the current through the divider as 10x 40uA.  \n",
    "\n",
    "R38 = 1.1/400E-6\n",
    "R38 = 2.7E3\n",
    "R4 = 1.9*R38/1.1\n",
    "print \"R38 = %d ohms\" %R38\n",
    "print \"R4 = %d ohms\" %R4"
   ]
  },
  {
   "cell_type": "markdown",
   "metadata": {},
   "source": [
    "**JFET LED driver**  \n",
    "\n",
    "Scrounged up some 2N5457 N Channel JFET transistors.  The zero gate voltage drain current is (1.0mA, 3.0mA, 5.0mA) for Vds = 15V.  Made up the test circuit with a netlist of Vdd, LED_anode; LED_cathode, drain; GND, source.  Three different JFET transistors were tested with a generic TH red LED with the voltage on VCC driven and the current through VCC measured.  \n",
    "\n",
    "||* Transistor  *||*  Voltage (V) *||*  Current (mA) *||\n",
    "||      1        ||   2.5          ||   1             ||\n",
    "||      1        ||   3            ||   2             ||\n",
    "||      1        ||   4            ||   3             ||\n",
    "||      1        ||   5            ||   4             || \n",
    "||      1        ||   12           ||   4             ||  \n",
    "\n",
    "\n",
    "The other transistors have similar performance (turn on at about 2.5V, pulls up to 4mA at 5V and then stable above 5V).  So this is a poor man's diode driver.  \n"
   ]
  },
  {
   "cell_type": "code",
   "execution_count": 6,
   "metadata": {
    "collapsed": false
   },
   "outputs": [
    {
     "name": "stdout",
     "output_type": "stream",
     "text": [
      "RHPZ = 42129.249642 Hz\n"
     ]
    }
   ],
   "source": [
    "#LTC3114 Compensation  \n",
    "# Following Datasheet reccommendations  \n",
    "# Boost Mode: Vin = 3V, Vout = 5V, Cout = 20uF, L = 6.8uH, Rload = 5 ohms\n",
    "Vin = 3\n",
    "Vout = 5\n",
    "Rload = 5\n",
    "Cout = 20E-6\n",
    "L = 6.8E-6\n",
    "\n",
    "\n",
    "\n",
    "RHPZ = Vin**2 * Rload/(Vout**2 * 2 * math.pi * 6.8E-6)\n",
    "\n",
    "print \"RHPZ = %f Hz\" %RHPZ\n"
   ]
  },
  {
   "cell_type": "code",
   "execution_count": 8,
   "metadata": {
    "collapsed": false
   },
   "outputs": [
    {
     "name": "stdout",
     "output_type": "stream",
     "text": [
      "P1 = 1591.549431 Hz\n"
     ]
    }
   ],
   "source": [
    "# Output Load Pole\n",
    "# Choose loop bandwidth of 1/4 the RHPZ, so fcc = 10kHz\n",
    "P1 = 1/(2*math.pi*Rload*Cout)\n",
    "print \"P1 = %f Hz\" %P1"
   ]
  },
  {
   "cell_type": "code",
   "execution_count": 11,
   "metadata": {
    "collapsed": false
   },
   "outputs": [
    {
     "name": "stdout",
     "output_type": "stream",
     "text": [
      "Rz = 26578.618051 ohms\n"
     ]
    }
   ],
   "source": [
    "# Compensation Zero Z1  \n",
    "Gcs = 1.97\n",
    "gm = 120E-6\n",
    "fcc = 10000  # This is the desired closed loop frequency response  \n",
    "\n",
    "Rz = fcc*Vout*2*math.pi*Cout/(Gcs*gm)\n",
    "print \"Rz = %f ohms\" %Rz"
   ]
  },
  {
   "cell_type": "code",
   "execution_count": 16,
   "metadata": {
    "collapsed": false
   },
   "outputs": [
    {
     "name": "stdout",
     "output_type": "stream",
     "text": [
      "Cp1 = 3.762423 nF\n"
     ]
    },
    {
     "data": {
      "text/plain": [
       "3.762422854692406e-09"
      ]
     },
     "execution_count": 16,
     "metadata": {},
     "output_type": "execute_result"
    }
   ],
   "source": [
    "# Cp1 capacitor\n",
    "Cp1 = Rload * Cout / Rz\n",
    "print \"Cp1 = %f nF\" %(Cp1*1E9)\n",
    "Cp1"
   ]
  },
  {
   "cell_type": "code",
   "execution_count": 20,
   "metadata": {
    "collapsed": false
   },
   "outputs": [
    {
     "name": "stdout",
     "output_type": "stream",
     "text": [
      "fcc_prime = 1400.000000 Hz\n"
     ]
    }
   ],
   "source": [
    "# Now account for the inner compensation loop\n",
    "# make fcc_prime the new crossover frequency\n",
    "fcc_prime = (fcc/3)*0.42\n",
    "print \"fcc_prime = %f Hz\" %fcc_prime\n"
   ]
  },
  {
   "cell_type": "code",
   "execution_count": 18,
   "metadata": {
    "collapsed": false
   },
   "outputs": [
    {
     "name": "stdout",
     "output_type": "stream",
     "text": [
      "Rz1 = 3721.006527 ohms\n"
     ]
    }
   ],
   "source": [
    "# run the Rz compensation zero Z1 equation again ...\n",
    "Rz1 = fcc_prime*Vout*2*math.pi*Cout/(Gcs*gm)\n",
    "print \"Rz1 = %f ohms\" %Rz1"
   ]
  },
  {
   "cell_type": "code",
   "execution_count": 19,
   "metadata": {
    "collapsed": false
   },
   "outputs": [
    {
     "name": "stdout",
     "output_type": "stream",
     "text": [
      "Cp1_prime = 26.874449 nF\n"
     ]
    }
   ],
   "source": [
    "# new Cp1 value  \n",
    "Cp1_prime = Rload * Cout / Rz1\n",
    "print \"Cp1_prime = %f nF\" %(Cp1_prime * 1E9)\n"
   ]
  }
 ],
 "metadata": {
  "anaconda-cloud": {},
  "kernelspec": {
   "display_name": "Python [conda root]",
   "language": "python",
   "name": "conda-root-py"
  },
  "language_info": {
   "codemirror_mode": {
    "name": "ipython",
    "version": 2
   },
   "file_extension": ".py",
   "mimetype": "text/x-python",
   "name": "python",
   "nbconvert_exporter": "python",
   "pygments_lexer": "ipython2",
   "version": "2.7.12"
  }
 },
 "nbformat": 4,
 "nbformat_minor": 1
}
